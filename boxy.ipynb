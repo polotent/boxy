{
 "cells": [
  {
   "cell_type": "code",
   "execution_count": 1,
   "id": "charitable-bangladesh",
   "metadata": {},
   "outputs": [],
   "source": [
    "import numpy as np\n",
    "import tensorflow as tf\n",
    "import matplotlib.pyplot as plt\n",
    "from model import get_model\n",
    "from tensorflow.keras.callbacks import EarlyStopping, ModelCheckpoint\n",
    "from tensorflow.keras.utils import to_categorical\n",
    "import helpers as hp"
   ]
  },
  {
   "cell_type": "code",
   "execution_count": 2,
   "id": "union-chapter",
   "metadata": {},
   "outputs": [],
   "source": [
    "commands, nums = hp.get_commands_dict('commands.csv')"
   ]
  },
  {
   "cell_type": "code",
   "execution_count": 3,
   "id": "suitable-bouquet",
   "metadata": {},
   "outputs": [
    {
     "name": "stdout",
     "output_type": "stream",
     "text": [
      "Train data shape : (385, 400, 13, 1)\n",
      "Train labels shape : (385, 11)\n",
      "Test data shape : (165, 400, 13, 1)\n",
      "Test labels shape : (165, 11)\n"
     ]
    }
   ],
   "source": [
    "data = np.load('data/data.npy')\n",
    "labels = np.load('data/labels.npy')\n",
    "assert data.shape[0] == labels.shape[0]\n",
    "data = data.reshape(data.shape + (1,))\n",
    "labels = [hp.get_num_by_command(label, commands) for label in labels] \n",
    "labels = to_categorical(labels, num_classes=11)\n",
    "idx = np.random.permutation(data.shape[0])\n",
    "data, labels = data[idx], labels[idx]\n",
    "\n",
    "test_size = 0.3\n",
    "\n",
    "dataset_size = data.shape[0]\n",
    "train_data = data[:np.floor(dataset_size*(1-test_size)).astype(int), ...]\n",
    "train_labels = labels[:np.floor(dataset_size*(1-test_size)).astype(int), ...]\n",
    "test_data = data[np.floor(dataset_size*(1-test_size)).astype(int):, ...]\n",
    "test_labels = labels[np.floor(dataset_size*(1-test_size)).astype(int):, ...]\n",
    "\n",
    "print(f'Train data shape : {train_data.shape}')\n",
    "print(f'Train labels shape : {train_labels.shape}')\n",
    "print(f'Test data shape : {test_data.shape}')\n",
    "print(f'Test labels shape : {test_labels.shape}')"
   ]
  },
  {
   "cell_type": "code",
   "execution_count": 4,
   "id": "missing-bandwidth",
   "metadata": {},
   "outputs": [
    {
     "name": "stdout",
     "output_type": "stream",
     "text": [
      "Model: \"sequential\"\n",
      "_________________________________________________________________\n",
      "Layer (type)                 Output Shape              Param #   \n",
      "=================================================================\n",
      "conv_1 (Conv2D)              (None, 400, 13, 20)       520       \n",
      "_________________________________________________________________\n",
      "maxpool_1 (MaxPooling2D)     (None, 200, 6, 20)        0         \n",
      "_________________________________________________________________\n",
      "conv_2 (Conv2D)              (None, 200, 6, 50)        25050     \n",
      "_________________________________________________________________\n",
      "maxpool_2 (MaxPooling2D)     (None, 100, 3, 50)        0         \n",
      "_________________________________________________________________\n",
      "flatten (Flatten)            (None, 15000)             0         \n",
      "_________________________________________________________________\n",
      "dense_1 (Dense)              (None, 500)               7500500   \n",
      "_________________________________________________________________\n",
      "dense_2 (Dense)              (None, 11)                5511      \n",
      "=================================================================\n",
      "Total params: 7,531,581\n",
      "Trainable params: 7,531,581\n",
      "Non-trainable params: 0\n",
      "_________________________________________________________________\n"
     ]
    }
   ],
   "source": [
    "model = get_model()\n",
    "model.summary()"
   ]
  },
  {
   "cell_type": "code",
   "execution_count": 5,
   "id": "completed-flavor",
   "metadata": {},
   "outputs": [],
   "source": [
    "# Compile model\n",
    "\n",
    "model.compile(optimizer=\"Adam\", loss=\"categorical_crossentropy\", metrics=[\"accuracy\"])"
   ]
  },
  {
   "cell_type": "code",
   "execution_count": 6,
   "id": "killing-wrapping",
   "metadata": {},
   "outputs": [],
   "source": [
    "# Set checkpoints\n",
    "\n",
    "checkpoint_best_only = ModelCheckpoint(save_freq=\"epoch\", save_best_only=True,\n",
    "                                       filepath=\"model_checkpoints/mlp/best_only\") \n",
    "early_stopping = EarlyStopping(monitor='val_loss', patience=12, verbose=1)"
   ]
  },
  {
   "cell_type": "code",
   "execution_count": 7,
   "id": "primary-decade",
   "metadata": {},
   "outputs": [
    {
     "name": "stdout",
     "output_type": "stream",
     "text": [
      "Epoch 1/50\n",
      "2/2 - 2s - loss: 5.5830 - accuracy: 0.0581 - val_loss: 9.0650 - val_accuracy: 0.1724\n",
      "INFO:tensorflow:Assets written to: model_checkpoints/mlp\\best_only\\assets\n",
      "Epoch 2/50\n",
      "2/2 - 1s - loss: 9.1649 - accuracy: 0.2202 - val_loss: 3.4147 - val_accuracy: 0.1897\n",
      "INFO:tensorflow:Assets written to: model_checkpoints/mlp\\best_only\\assets\n",
      "Epoch 3/50\n",
      "2/2 - 1s - loss: 3.9820 - accuracy: 0.3150 - val_loss: 2.0828 - val_accuracy: 0.2414\n",
      "INFO:tensorflow:Assets written to: model_checkpoints/mlp\\best_only\\assets\n",
      "Epoch 4/50\n",
      "2/2 - 1s - loss: 2.3455 - accuracy: 0.3272 - val_loss: 2.0448 - val_accuracy: 0.2931\n",
      "INFO:tensorflow:Assets written to: model_checkpoints/mlp\\best_only\\assets\n",
      "Epoch 5/50\n",
      "2/2 - 1s - loss: 2.1218 - accuracy: 0.3456 - val_loss: 2.0914 - val_accuracy: 0.2759\n",
      "Epoch 6/50\n",
      "2/2 - 2s - loss: 2.1164 - accuracy: 0.3853 - val_loss: 2.0542 - val_accuracy: 0.3448\n",
      "Epoch 7/50\n",
      "2/2 - 2s - loss: 2.0174 - accuracy: 0.4373 - val_loss: 1.9194 - val_accuracy: 0.3276\n",
      "INFO:tensorflow:Assets written to: model_checkpoints/mlp\\best_only\\assets\n",
      "Epoch 8/50\n",
      "2/2 - 1s - loss: 1.7795 - accuracy: 0.4740 - val_loss: 1.7699 - val_accuracy: 0.3793\n",
      "INFO:tensorflow:Assets written to: model_checkpoints/mlp\\best_only\\assets\n",
      "Epoch 9/50\n",
      "2/2 - 1s - loss: 1.4913 - accuracy: 0.5505 - val_loss: 1.5667 - val_accuracy: 0.5000\n",
      "INFO:tensorflow:Assets written to: model_checkpoints/mlp\\best_only\\assets\n",
      "Epoch 10/50\n",
      "2/2 - 2s - loss: 1.1796 - accuracy: 0.6544 - val_loss: 1.2578 - val_accuracy: 0.5172\n",
      "INFO:tensorflow:Assets written to: model_checkpoints/mlp\\best_only\\assets\n",
      "Epoch 11/50\n",
      "2/2 - 1s - loss: 0.9404 - accuracy: 0.7125 - val_loss: 1.0977 - val_accuracy: 0.5690\n",
      "INFO:tensorflow:Assets written to: model_checkpoints/mlp\\best_only\\assets\n",
      "Epoch 12/50\n",
      "2/2 - 1s - loss: 0.8305 - accuracy: 0.7554 - val_loss: 0.9449 - val_accuracy: 0.7069\n",
      "INFO:tensorflow:Assets written to: model_checkpoints/mlp\\best_only\\assets\n",
      "Epoch 13/50\n",
      "2/2 - 1s - loss: 0.6357 - accuracy: 0.8226 - val_loss: 0.9501 - val_accuracy: 0.6552\n",
      "Epoch 14/50\n",
      "2/2 - 2s - loss: 0.5250 - accuracy: 0.8349 - val_loss: 0.7754 - val_accuracy: 0.7931\n",
      "INFO:tensorflow:Assets written to: model_checkpoints/mlp\\best_only\\assets\n",
      "Epoch 15/50\n",
      "2/2 - 1s - loss: 0.3848 - accuracy: 0.9052 - val_loss: 0.6438 - val_accuracy: 0.8276\n",
      "INFO:tensorflow:Assets written to: model_checkpoints/mlp\\best_only\\assets\n",
      "Epoch 16/50\n",
      "2/2 - 1s - loss: 0.3017 - accuracy: 0.9205 - val_loss: 0.6860 - val_accuracy: 0.7586\n",
      "Epoch 17/50\n",
      "2/2 - 1s - loss: 0.2495 - accuracy: 0.9266 - val_loss: 0.5505 - val_accuracy: 0.8276\n",
      "INFO:tensorflow:Assets written to: model_checkpoints/mlp\\best_only\\assets\n",
      "Epoch 18/50\n",
      "2/2 - 1s - loss: 0.1707 - accuracy: 0.9511 - val_loss: 0.5033 - val_accuracy: 0.8448\n",
      "INFO:tensorflow:Assets written to: model_checkpoints/mlp\\best_only\\assets\n",
      "Epoch 19/50\n",
      "2/2 - 1s - loss: 0.1581 - accuracy: 0.9541 - val_loss: 0.5028 - val_accuracy: 0.8621\n",
      "INFO:tensorflow:Assets written to: model_checkpoints/mlp\\best_only\\assets\n",
      "Epoch 20/50\n",
      "2/2 - 1s - loss: 0.1057 - accuracy: 0.9786 - val_loss: 0.5143 - val_accuracy: 0.8621\n",
      "Epoch 21/50\n",
      "2/2 - 1s - loss: 0.1050 - accuracy: 0.9725 - val_loss: 0.3859 - val_accuracy: 0.9483\n",
      "INFO:tensorflow:Assets written to: model_checkpoints/mlp\\best_only\\assets\n",
      "Epoch 22/50\n",
      "2/2 - 1s - loss: 0.0825 - accuracy: 0.9817 - val_loss: 0.3742 - val_accuracy: 0.8966\n",
      "INFO:tensorflow:Assets written to: model_checkpoints/mlp\\best_only\\assets\n",
      "Epoch 23/50\n",
      "2/2 - 1s - loss: 0.0630 - accuracy: 0.9878 - val_loss: 0.4189 - val_accuracy: 0.9138\n",
      "Epoch 24/50\n",
      "2/2 - 1s - loss: 0.0564 - accuracy: 0.9878 - val_loss: 0.4236 - val_accuracy: 0.9310\n",
      "Epoch 25/50\n",
      "2/2 - 1s - loss: 0.0594 - accuracy: 0.9817 - val_loss: 0.3647 - val_accuracy: 0.9138\n",
      "INFO:tensorflow:Assets written to: model_checkpoints/mlp\\best_only\\assets\n",
      "Epoch 26/50\n",
      "2/2 - 1s - loss: 0.0366 - accuracy: 0.9908 - val_loss: 0.2709 - val_accuracy: 0.9310\n",
      "INFO:tensorflow:Assets written to: model_checkpoints/mlp\\best_only\\assets\n",
      "Epoch 27/50\n",
      "2/2 - 1s - loss: 0.0224 - accuracy: 0.9969 - val_loss: 0.2161 - val_accuracy: 0.9310\n",
      "INFO:tensorflow:Assets written to: model_checkpoints/mlp\\best_only\\assets\n",
      "Epoch 28/50\n",
      "2/2 - 1s - loss: 0.0311 - accuracy: 0.9939 - val_loss: 0.1862 - val_accuracy: 0.9138\n",
      "INFO:tensorflow:Assets written to: model_checkpoints/mlp\\best_only\\assets\n",
      "Epoch 29/50\n",
      "2/2 - 1s - loss: 0.0199 - accuracy: 1.0000 - val_loss: 0.2120 - val_accuracy: 0.9310\n",
      "Epoch 30/50\n",
      "2/2 - 1s - loss: 0.0133 - accuracy: 1.0000 - val_loss: 0.2490 - val_accuracy: 0.9310\n",
      "Epoch 31/50\n",
      "2/2 - 1s - loss: 0.0108 - accuracy: 1.0000 - val_loss: 0.2723 - val_accuracy: 0.9483\n",
      "Epoch 32/50\n",
      "2/2 - 1s - loss: 0.0092 - accuracy: 1.0000 - val_loss: 0.2816 - val_accuracy: 0.9483\n",
      "Epoch 33/50\n",
      "2/2 - 1s - loss: 0.0081 - accuracy: 1.0000 - val_loss: 0.2796 - val_accuracy: 0.9310\n",
      "Epoch 34/50\n",
      "2/2 - 1s - loss: 0.0072 - accuracy: 1.0000 - val_loss: 0.2677 - val_accuracy: 0.9310\n",
      "Epoch 35/50\n",
      "2/2 - 1s - loss: 0.0073 - accuracy: 1.0000 - val_loss: 0.2417 - val_accuracy: 0.9310\n",
      "Epoch 36/50\n",
      "2/2 - 1s - loss: 0.0054 - accuracy: 1.0000 - val_loss: 0.2212 - val_accuracy: 0.9483\n",
      "Epoch 37/50\n",
      "2/2 - 1s - loss: 0.0045 - accuracy: 1.0000 - val_loss: 0.2135 - val_accuracy: 0.9483\n",
      "Epoch 38/50\n",
      "2/2 - 1s - loss: 0.0035 - accuracy: 1.0000 - val_loss: 0.2151 - val_accuracy: 0.9483\n",
      "Epoch 00038: early stopping\n"
     ]
    }
   ],
   "source": [
    "# Train the model\n",
    "\n",
    "history = model.fit(train_data, train_labels, epochs=50, batch_size=256, validation_split=0.15, \n",
    "                    callbacks=[early_stopping, checkpoint_best_only], \n",
    "                    verbose=2)"
   ]
  },
  {
   "cell_type": "code",
   "execution_count": 8,
   "id": "better-kernel",
   "metadata": {},
   "outputs": [],
   "source": [
    "def plot_metrics(history):\n",
    "    fig = plt.figure(figsize=(12, 5))\n",
    "\n",
    "    fig.add_subplot(121)\n",
    "    plt.plot(history.history['loss'])\n",
    "    plt.plot(history.history['val_loss'])\n",
    "    plt.title('Loss vs. epochs')\n",
    "    plt.ylabel('Loss')\n",
    "    plt.xlabel('Epoch')\n",
    "    plt.legend(['Training', 'Validation'])\n",
    "\n",
    "    fig.add_subplot(122)\n",
    "    plt.plot(history.history['accuracy'])\n",
    "    plt.plot(history.history['val_accuracy'])\n",
    "    plt.title('Accuracy vs. epochs')\n",
    "    plt.ylabel('Accuracy')\n",
    "    plt.xlabel('Epoch')\n",
    "    plt.legend(['Training', 'Validation'])\n",
    "\n",
    "    plt.show()"
   ]
  },
  {
   "cell_type": "code",
   "execution_count": 9,
   "id": "virtual-courtesy",
   "metadata": {},
   "outputs": [
    {
     "data": {
      "image/png": "[encoded data removed]",
      "text/plain": [
       "<Figure size 864x360 with 2 Axes>"
      ]
     },
     "metadata": {
      "needs_background": "light"
     },
     "output_type": "display_data"
    }
   ],
   "source": [
    "# Plot the metrics vs. epochs\n",
    "\n",
    "plot_metrics(history)"
   ]
  },
  {
   "cell_type": "code",
   "execution_count": 10,
   "id": "whole-communication",
   "metadata": {},
   "outputs": [
    {
     "name": "stdout",
     "output_type": "stream",
     "text": [
      "6/6 [==============================] - 0s 31ms/step - loss: 1.2019 - accuracy: 0.9091\n",
      "Test loss: 1.20191490650177\n",
      "Test accuracy: 0.9090909361839294\n"
     ]
    }
   ],
   "source": [
    "test_loss, test_accuracy = model.evaluate(test_data, test_labels)\n",
    "print(f\"Test loss: {test_loss}\")\n",
    "print(f\"Test accuracy: {test_accuracy}\")"
   ]
  }
 ],
 "metadata": {
  "kernelspec": {
   "display_name": "Python 3",
   "language": "python",
   "name": "python3"
  },
  "language_info": {
   "codemirror_mode": {
    "name": "ipython",
    "version": 3
   },
   "file_extension": ".py",
   "mimetype": "text/x-python",
   "name": "python",
   "nbconvert_exporter": "python",
   "pygments_lexer": "ipython3",
   "version": "3.8.8"
  }
 },
 "nbformat": 4,
 "nbformat_minor": 5
}
