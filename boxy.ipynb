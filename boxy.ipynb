{
 "cells": [
  {
   "cell_type": "code",
   "execution_count": 1,
   "id": "selective-staff",
   "metadata": {},
   "outputs": [],
   "source": [
    "import numpy as np\n",
    "import tensorflow as tf\n",
    "import matplotlib.pyplot as plt\n",
    "from model import get_model\n",
    "from tensorflow.keras.callbacks import EarlyStopping, ModelCheckpoint\n",
    "from tensorflow.keras.utils import to_categorical\n",
    "import helpers as hp"
   ]
  },
  {
   "cell_type": "code",
   "execution_count": 2,
   "id": "official-greenhouse",
   "metadata": {},
   "outputs": [],
   "source": [
    "commands, nums = hp.get_commands_dict('commands.csv')"
   ]
  },
  {
   "cell_type": "code",
   "execution_count": 3,
   "id": "extreme-mexican",
   "metadata": {},
   "outputs": [
    {
     "name": "stdout",
     "output_type": "stream",
     "text": [
      "Train data shape : (385, 400, 13)\n",
      "Train labels shape : (385, 11)\n",
      "Test data shape : (165, 400, 13)\n",
      "Test labels shape : (165, 11)\n"
     ]
    }
   ],
   "source": [
    "data = np.load('data/data.npy')\n",
    "labels = np.load('data/labels.npy')\n",
    "assert data.shape[0] == labels.shape[0]\n",
    "labels = [hp.get_num_by_command(label, commands) for label in labels] \n",
    "labels = to_categorical(labels, num_classes=11)\n",
    "idx = np.random.permutation(data.shape[0])\n",
    "data, labels = data[idx], labels[idx]\n",
    "\n",
    "test_size = 0.3\n",
    "\n",
    "dataset_size = data.shape[0]\n",
    "train_data = data[:np.floor(dataset_size*(1-test_size)).astype(int), ...]\n",
    "train_labels = labels[:np.floor(dataset_size*(1-test_size)).astype(int), ...]\n",
    "test_data = data[np.floor(dataset_size*(1-test_size)).astype(int):, ...]\n",
    "test_labels = labels[np.floor(dataset_size*(1-test_size)).astype(int):, ...]\n",
    "\n",
    "print(f'Train data shape : {train_data.shape}')\n",
    "print(f'Train labels shape : {train_labels.shape}')\n",
    "print(f'Test data shape : {test_data.shape}')\n",
    "print(f'Test labels shape : {test_labels.shape}')"
   ]
  },
  {
   "cell_type": "code",
   "execution_count": 4,
   "id": "romantic-latex",
   "metadata": {},
   "outputs": [
    {
     "name": "stdout",
     "output_type": "stream",
     "text": [
      "Model: \"sequential\"\n",
      "_________________________________________________________________\n",
      "Layer (type)                 Output Shape              Param #   \n",
      "=================================================================\n",
      "flatten (Flatten)            (None, 5200)              0         \n",
      "_________________________________________________________________\n",
      "dense_1 (Dense)              (None, 256)               1331456   \n",
      "_________________________________________________________________\n",
      "dense_2 (Dense)              (None, 128)               32896     \n",
      "_________________________________________________________________\n",
      "dense_3 (Dense)              (None, 128)               16512     \n",
      "_________________________________________________________________\n",
      "dense_4 (Dense)              (None, 64)                8256      \n",
      "_________________________________________________________________\n",
      "dense_5 (Dense)              (None, 11)                715       \n",
      "=================================================================\n",
      "Total params: 1,389,835\n",
      "Trainable params: 1,389,835\n",
      "Non-trainable params: 0\n",
      "_________________________________________________________________\n"
     ]
    }
   ],
   "source": [
    "model = get_model()\n",
    "model.summary()"
   ]
  },
  {
   "cell_type": "code",
   "execution_count": 5,
   "id": "unsigned-finland",
   "metadata": {},
   "outputs": [],
   "source": [
    "# Compile model\n",
    "\n",
    "model.compile(optimizer=\"Adam\", loss=\"categorical_crossentropy\", metrics=[\"accuracy\"])"
   ]
  },
  {
   "cell_type": "code",
   "execution_count": 6,
   "id": "personalized-secondary",
   "metadata": {},
   "outputs": [],
   "source": [
    "# Set checkpoints\n",
    "\n",
    "checkpoint_best_only = ModelCheckpoint(save_freq=\"epoch\", save_best_only=True,\n",
    "                                       filepath=\"model_checkpoints/mlp/best_only\") \n",
    "early_stopping = EarlyStopping(monitor='val_loss', patience=10, verbose=1)"
   ]
  },
  {
   "cell_type": "code",
   "execution_count": 7,
   "id": "genuine-apollo",
   "metadata": {},
   "outputs": [
    {
     "name": "stdout",
     "output_type": "stream",
     "text": [
      "Epoch 1/50\n",
      "2/2 - 2s - loss: 6.9315 - accuracy: 0.0856 - val_loss: 2.7985 - val_accuracy: 0.1724\n",
      "INFO:tensorflow:Assets written to: model_checkpoints/mlp\\best_only\\assets\n",
      "Epoch 2/50\n",
      "2/2 - 0s - loss: 2.3952 - accuracy: 0.2294 - val_loss: 1.7601 - val_accuracy: 0.4655\n",
      "INFO:tensorflow:Assets written to: model_checkpoints/mlp\\best_only\\assets\n",
      "Epoch 3/50\n",
      "2/2 - 0s - loss: 1.5623 - accuracy: 0.4740 - val_loss: 1.5299 - val_accuracy: 0.5517\n",
      "INFO:tensorflow:Assets written to: model_checkpoints/mlp\\best_only\\assets\n",
      "Epoch 4/50\n",
      "2/2 - 0s - loss: 1.1391 - accuracy: 0.5994 - val_loss: 1.1256 - val_accuracy: 0.7241\n",
      "INFO:tensorflow:Assets written to: model_checkpoints/mlp\\best_only\\assets\n",
      "Epoch 5/50\n",
      "2/2 - 0s - loss: 0.7502 - accuracy: 0.7859 - val_loss: 1.0547 - val_accuracy: 0.7241\n",
      "INFO:tensorflow:Assets written to: model_checkpoints/mlp\\best_only\\assets\n",
      "Epoch 6/50\n",
      "2/2 - 0s - loss: 0.5511 - accuracy: 0.8471 - val_loss: 0.8589 - val_accuracy: 0.8276\n",
      "INFO:tensorflow:Assets written to: model_checkpoints/mlp\\best_only\\assets\n",
      "Epoch 7/50\n",
      "2/2 - 0s - loss: 0.4162 - accuracy: 0.8807 - val_loss: 0.6962 - val_accuracy: 0.8276\n",
      "INFO:tensorflow:Assets written to: model_checkpoints/mlp\\best_only\\assets\n",
      "Epoch 8/50\n",
      "2/2 - 0s - loss: 0.2817 - accuracy: 0.9174 - val_loss: 0.6122 - val_accuracy: 0.8793\n",
      "INFO:tensorflow:Assets written to: model_checkpoints/mlp\\best_only\\assets\n",
      "Epoch 9/50\n",
      "2/2 - 0s - loss: 0.2163 - accuracy: 0.9388 - val_loss: 0.5622 - val_accuracy: 0.8793\n",
      "INFO:tensorflow:Assets written to: model_checkpoints/mlp\\best_only\\assets\n",
      "Epoch 10/50\n",
      "2/2 - 0s - loss: 0.1576 - accuracy: 0.9633 - val_loss: 0.6007 - val_accuracy: 0.9138\n",
      "Epoch 11/50\n",
      "2/2 - 0s - loss: 0.1217 - accuracy: 0.9755 - val_loss: 0.6242 - val_accuracy: 0.9138\n",
      "Epoch 12/50\n",
      "2/2 - 0s - loss: 0.0703 - accuracy: 0.9908 - val_loss: 0.6230 - val_accuracy: 0.9138\n",
      "Epoch 13/50\n",
      "2/2 - 0s - loss: 0.0574 - accuracy: 0.9969 - val_loss: 0.6106 - val_accuracy: 0.9138\n",
      "Epoch 14/50\n",
      "2/2 - 0s - loss: 0.0548 - accuracy: 0.9969 - val_loss: 0.5657 - val_accuracy: 0.9310\n",
      "Epoch 15/50\n",
      "2/2 - 0s - loss: 0.0422 - accuracy: 0.9939 - val_loss: 0.5595 - val_accuracy: 0.9310\n",
      "INFO:tensorflow:Assets written to: model_checkpoints/mlp\\best_only\\assets\n",
      "Epoch 16/50\n",
      "2/2 - 0s - loss: 0.0304 - accuracy: 0.9969 - val_loss: 0.5744 - val_accuracy: 0.9310\n",
      "Epoch 17/50\n",
      "2/2 - 0s - loss: 0.0309 - accuracy: 1.0000 - val_loss: 0.5752 - val_accuracy: 0.9310\n",
      "Epoch 18/50\n",
      "2/2 - 0s - loss: 0.0211 - accuracy: 1.0000 - val_loss: 0.5848 - val_accuracy: 0.9310\n",
      "Epoch 19/50\n",
      "2/2 - 0s - loss: 0.0174 - accuracy: 1.0000 - val_loss: 0.5950 - val_accuracy: 0.9310\n",
      "Epoch 20/50\n",
      "2/2 - 0s - loss: 0.0154 - accuracy: 1.0000 - val_loss: 0.6125 - val_accuracy: 0.9310\n",
      "Epoch 21/50\n",
      "2/2 - 0s - loss: 0.0197 - accuracy: 1.0000 - val_loss: 0.6035 - val_accuracy: 0.9310\n",
      "Epoch 22/50\n",
      "2/2 - 0s - loss: 0.0126 - accuracy: 1.0000 - val_loss: 0.5988 - val_accuracy: 0.9310\n",
      "Epoch 23/50\n",
      "2/2 - 0s - loss: 0.0139 - accuracy: 1.0000 - val_loss: 0.6056 - val_accuracy: 0.9138\n",
      "Epoch 24/50\n",
      "2/2 - 0s - loss: 0.0150 - accuracy: 1.0000 - val_loss: 0.5936 - val_accuracy: 0.9310\n",
      "Epoch 25/50\n",
      "2/2 - 0s - loss: 0.0114 - accuracy: 1.0000 - val_loss: 0.5897 - val_accuracy: 0.9138\n",
      "Epoch 00025: early stopping\n"
     ]
    }
   ],
   "source": [
    "# Train the model\n",
    "\n",
    "history = model.fit(train_data, train_labels, epochs=50, batch_size=256, validation_split=0.15, \n",
    "                    callbacks=[early_stopping, checkpoint_best_only], \n",
    "                    verbose=2)"
   ]
  },
  {
   "cell_type": "code",
   "execution_count": 8,
   "id": "toxic-constant",
   "metadata": {},
   "outputs": [],
   "source": [
    "def plot_metrics(history):\n",
    "    fig = plt.figure(figsize=(12, 5))\n",
    "\n",
    "    fig.add_subplot(121)\n",
    "    plt.plot(history.history['loss'])\n",
    "    plt.plot(history.history['val_loss'])\n",
    "    plt.title('Loss vs. epochs')\n",
    "    plt.ylabel('Loss')\n",
    "    plt.xlabel('Epoch')\n",
    "    plt.legend(['Training', 'Validation'])\n",
    "\n",
    "    fig.add_subplot(122)\n",
    "    plt.plot(history.history['accuracy'])\n",
    "    plt.plot(history.history['val_accuracy'])\n",
    "    plt.title('Accuracy vs. epochs')\n",
    "    plt.ylabel('Accuracy')\n",
    "    plt.xlabel('Epoch')\n",
    "    plt.legend(['Training', 'Validation'])\n",
    "\n",
    "    plt.show()"
   ]
  },
  {
   "cell_type": "code",
   "execution_count": 9,
   "id": "compliant-moderator",
   "metadata": {},
   "outputs": [
    {
     "data": {
      "image/png": "[encoded data removed]",
      "text/plain": [
       "<Figure size 864x360 with 2 Axes>"
      ]
     },
     "metadata": {
      "needs_background": "light"
     },
     "output_type": "display_data"
    }
   ],
   "source": [
    "# Plot the metrics vs. epochs\n",
    "\n",
    "plot_metrics(history)"
   ]
  },
  {
   "cell_type": "code",
   "execution_count": 10,
   "id": "provincial-insurance",
   "metadata": {},
   "outputs": [
    {
     "name": "stdout",
     "output_type": "stream",
     "text": [
      "6/6 [==============================] - 0s 4ms/step - loss: 0.2629 - accuracy: 0.9394\n",
      "Test loss: 0.26289957761764526\n",
      "Test accuracy: 0.939393937587738\n"
     ]
    }
   ],
   "source": [
    "test_loss, test_accuracy = model.evaluate(test_data, test_labels)\n",
    "print(f\"Test loss: {test_loss}\")\n",
    "print(f\"Test accuracy: {test_accuracy}\")"
   ]
  }
 ],
 "metadata": {
  "kernelspec": {
   "display_name": "Python 3",
   "language": "python",
   "name": "python3"
  },
  "language_info": {
   "codemirror_mode": {
    "name": "ipython",
    "version": 3
   },
   "file_extension": ".py",
   "mimetype": "text/x-python",
   "name": "python",
   "nbconvert_exporter": "python",
   "pygments_lexer": "ipython3",
   "version": "3.8.8"
  }
 },
 "nbformat": 4,
 "nbformat_minor": 5
}
