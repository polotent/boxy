{
 "cells": [
  {
   "cell_type": "code",
   "execution_count": 1,
   "id": "af03eb5e",
   "metadata": {},
   "outputs": [],
   "source": [
    "import numpy as np\n",
    "import tensorflow as tf\n",
    "import matplotlib.pyplot as plt\n",
    "from model import get_model\n",
    "from tensorflow.keras.callbacks import EarlyStopping, ModelCheckpoint\n",
    "from tensorflow.keras.utils import to_categorical\n",
    "import helpers as hp"
   ]
  },
  {
   "cell_type": "code",
   "execution_count": 2,
   "id": "0fb980f2",
   "metadata": {},
   "outputs": [],
   "source": [
    "commands, nums = hp.get_commands_dict('commands.csv')"
   ]
  },
  {
   "cell_type": "code",
   "execution_count": 3,
   "id": "8a05890f",
   "metadata": {},
   "outputs": [
    {
     "name": "stdout",
     "output_type": "stream",
     "text": [
      "(550, 400, 13, 1)\n",
      "(550, 11)\n",
      "(440, 400, 13, 1)\n",
      "(440, 11)\n",
      "(440, 400, 13, 1)\n",
      "(440, 11)\n",
      "(500, 400, 13, 1)\n",
      "(500, 11)\n",
      "(550, 400, 13, 1)\n",
      "(550, 11)\n"
     ]
    }
   ],
   "source": [
    "all_speakers = ['speaker1', 'speaker2', 'speaker3', 'speaker4', 'speaker5']\n",
    "dataset = dict()\n",
    "for speaker in all_speakers:\n",
    "    data = hp.load_from_datafile(f'data/{speaker}_data.npy')\n",
    "    labels = hp.load_from_datafile(f'data/{speaker}_labels.npy')\n",
    "\n",
    "    data = data.reshape(data.shape + (1,))\n",
    "    labels = to_categorical([hp.get_num_by_command(label, commands) for label in labels], num_classes=11)\n",
    "    idx = np.random.permutation(data.shape[0])\n",
    "    data, labels = data[idx], labels[idx]\n",
    "    \n",
    "    dataset[speaker] = {\n",
    "        'data':   data,\n",
    "        'labels': labels \n",
    "    }\n",
    "    \n",
    "    print(dataset[speaker]['data'].shape)\n",
    "    print(dataset[speaker]['labels'].shape)"
   ]
  },
  {
   "cell_type": "markdown",
   "id": "21c5fc78",
   "metadata": {},
   "source": [
    "## Experiment 1 \n",
    "### Train on speaker 1 and test on each of others"
   ]
  },
  {
   "cell_type": "markdown",
   "id": "afb18778",
   "metadata": {},
   "source": [
    "Keras Model"
   ]
  },
  {
   "cell_type": "code",
   "execution_count": 4,
   "id": "39c7534d",
   "metadata": {},
   "outputs": [
    {
     "name": "stdout",
     "output_type": "stream",
     "text": [
      "Model: \"sequential\"\n",
      "_________________________________________________________________\n",
      "Layer (type)                 Output Shape              Param #   \n",
      "=================================================================\n",
      "flatten (Flatten)            (None, 5200)              0         \n",
      "_________________________________________________________________\n",
      "dense_1 (Dense)              (None, 256)               1331456   \n",
      "_________________________________________________________________\n",
      "dense_2 (Dense)              (None, 128)               32896     \n",
      "_________________________________________________________________\n",
      "dense_3 (Dense)              (None, 128)               16512     \n",
      "_________________________________________________________________\n",
      "dense_4 (Dense)              (None, 64)                8256      \n",
      "_________________________________________________________________\n",
      "dense_5 (Dense)              (None, 11)                715       \n",
      "=================================================================\n",
      "Total params: 1,389,835\n",
      "Trainable params: 1,389,835\n",
      "Non-trainable params: 0\n",
      "_________________________________________________________________\n",
      "Epoch 1/70\n",
      "2/2 - 2s - loss: 3.0221 - accuracy: 0.1884 - val_loss: 2.0143 - val_accuracy: 0.3735\n",
      "INFO:tensorflow:Assets written to: model_checkpoints/experiment1/mlp/best_only/assets\n",
      "Epoch 2/70\n",
      "2/2 - 0s - loss: 1.7086 - accuracy: 0.4839 - val_loss: 1.2116 - val_accuracy: 0.6265\n",
      "INFO:tensorflow:Assets written to: model_checkpoints/experiment1/mlp/best_only/assets\n",
      "Epoch 3/70\n",
      "2/2 - 0s - loss: 1.0549 - accuracy: 0.6874 - val_loss: 1.1115 - val_accuracy: 0.6024\n",
      "INFO:tensorflow:Assets written to: model_checkpoints/experiment1/mlp/best_only/assets\n",
      "Epoch 4/70\n",
      "2/2 - 0s - loss: 0.7413 - accuracy: 0.8158 - val_loss: 0.8112 - val_accuracy: 0.7590\n",
      "INFO:tensorflow:Assets written to: model_checkpoints/experiment1/mlp/best_only/assets\n",
      "Epoch 5/70\n",
      "2/2 - 0s - loss: 0.5428 - accuracy: 0.8437 - val_loss: 0.6114 - val_accuracy: 0.8434\n",
      "INFO:tensorflow:Assets written to: model_checkpoints/experiment1/mlp/best_only/assets\n",
      "Epoch 6/70\n",
      "2/2 - 0s - loss: 0.3813 - accuracy: 0.8994 - val_loss: 0.5342 - val_accuracy: 0.8313\n",
      "INFO:tensorflow:Assets written to: model_checkpoints/experiment1/mlp/best_only/assets\n",
      "Epoch 7/70\n",
      "2/2 - 0s - loss: 0.2878 - accuracy: 0.9251 - val_loss: 0.4312 - val_accuracy: 0.8916\n",
      "INFO:tensorflow:Assets written to: model_checkpoints/experiment1/mlp/best_only/assets\n",
      "Epoch 8/70\n",
      "2/2 - 0s - loss: 0.2194 - accuracy: 0.9400 - val_loss: 0.3806 - val_accuracy: 0.9157\n",
      "INFO:tensorflow:Assets written to: model_checkpoints/experiment1/mlp/best_only/assets\n",
      "Epoch 9/70\n",
      "2/2 - 0s - loss: 0.1377 - accuracy: 0.9743 - val_loss: 0.3433 - val_accuracy: 0.9036\n",
      "INFO:tensorflow:Assets written to: model_checkpoints/experiment1/mlp/best_only/assets\n",
      "Epoch 10/70\n",
      "2/2 - 0s - loss: 0.1179 - accuracy: 0.9700 - val_loss: 0.2636 - val_accuracy: 0.9398\n",
      "INFO:tensorflow:Assets written to: model_checkpoints/experiment1/mlp/best_only/assets\n",
      "Epoch 11/70\n",
      "2/2 - 0s - loss: 0.0723 - accuracy: 0.9829 - val_loss: 0.2393 - val_accuracy: 0.9398\n",
      "INFO:tensorflow:Assets written to: model_checkpoints/experiment1/mlp/best_only/assets\n",
      "Epoch 12/70\n",
      "2/2 - 0s - loss: 0.0538 - accuracy: 0.9914 - val_loss: 0.2250 - val_accuracy: 0.9518\n",
      "INFO:tensorflow:Assets written to: model_checkpoints/experiment1/mlp/best_only/assets\n",
      "Epoch 13/70\n",
      "2/2 - 0s - loss: 0.0401 - accuracy: 0.9979 - val_loss: 0.1969 - val_accuracy: 0.9639\n",
      "INFO:tensorflow:Assets written to: model_checkpoints/experiment1/mlp/best_only/assets\n",
      "Epoch 14/70\n",
      "2/2 - 0s - loss: 0.0278 - accuracy: 1.0000 - val_loss: 0.1671 - val_accuracy: 0.9759\n",
      "INFO:tensorflow:Assets written to: model_checkpoints/experiment1/mlp/best_only/assets\n",
      "Epoch 15/70\n",
      "2/2 - 0s - loss: 0.0250 - accuracy: 1.0000 - val_loss: 0.1642 - val_accuracy: 0.9759\n",
      "INFO:tensorflow:Assets written to: model_checkpoints/experiment1/mlp/best_only/assets\n",
      "Epoch 16/70\n",
      "2/2 - 0s - loss: 0.0172 - accuracy: 1.0000 - val_loss: 0.1763 - val_accuracy: 0.9759\n",
      "Epoch 17/70\n",
      "2/2 - 0s - loss: 0.0145 - accuracy: 1.0000 - val_loss: 0.1912 - val_accuracy: 0.9518\n",
      "Epoch 18/70\n",
      "2/2 - 0s - loss: 0.0127 - accuracy: 1.0000 - val_loss: 0.1887 - val_accuracy: 0.9639\n",
      "Epoch 19/70\n",
      "2/2 - 0s - loss: 0.0099 - accuracy: 1.0000 - val_loss: 0.1867 - val_accuracy: 0.9639\n",
      "Epoch 20/70\n",
      "2/2 - 0s - loss: 0.0092 - accuracy: 1.0000 - val_loss: 0.1858 - val_accuracy: 0.9639\n",
      "Epoch 21/70\n",
      "2/2 - 0s - loss: 0.0087 - accuracy: 1.0000 - val_loss: 0.1857 - val_accuracy: 0.9639\n",
      "Epoch 22/70\n",
      "2/2 - 0s - loss: 0.0078 - accuracy: 1.0000 - val_loss: 0.1871 - val_accuracy: 0.9639\n",
      "Epoch 23/70\n",
      "2/2 - 0s - loss: 0.0072 - accuracy: 1.0000 - val_loss: 0.1898 - val_accuracy: 0.9639\n",
      "Epoch 24/70\n",
      "2/2 - 0s - loss: 0.0070 - accuracy: 1.0000 - val_loss: 0.1922 - val_accuracy: 0.9639\n",
      "Epoch 25/70\n",
      "2/2 - 0s - loss: 0.0068 - accuracy: 1.0000 - val_loss: 0.1940 - val_accuracy: 0.9639\n",
      "Epoch 26/70\n",
      "2/2 - 0s - loss: 0.0066 - accuracy: 1.0000 - val_loss: 0.1956 - val_accuracy: 0.9639\n",
      "Epoch 27/70\n",
      "2/2 - 0s - loss: 0.0063 - accuracy: 1.0000 - val_loss: 0.1970 - val_accuracy: 0.9639\n",
      "Epoch 28/70\n",
      "2/2 - 0s - loss: 0.0062 - accuracy: 1.0000 - val_loss: 0.1979 - val_accuracy: 0.9639\n",
      "Epoch 29/70\n",
      "2/2 - 0s - loss: 0.0060 - accuracy: 1.0000 - val_loss: 0.1986 - val_accuracy: 0.9639\n",
      "Epoch 30/70\n",
      "2/2 - 0s - loss: 0.0060 - accuracy: 1.0000 - val_loss: 0.1986 - val_accuracy: 0.9639\n",
      "Epoch 31/70\n",
      "2/2 - 0s - loss: 0.0059 - accuracy: 1.0000 - val_loss: 0.1983 - val_accuracy: 0.9639\n",
      "Epoch 32/70\n",
      "2/2 - 0s - loss: 0.0058 - accuracy: 1.0000 - val_loss: 0.1980 - val_accuracy: 0.9639\n",
      "Epoch 33/70\n",
      "2/2 - 0s - loss: 0.0057 - accuracy: 1.0000 - val_loss: 0.1979 - val_accuracy: 0.9639\n",
      "Epoch 34/70\n",
      "2/2 - 0s - loss: 0.0056 - accuracy: 1.0000 - val_loss: 0.1980 - val_accuracy: 0.9639\n",
      "Epoch 35/70\n",
      "2/2 - 0s - loss: 0.0056 - accuracy: 1.0000 - val_loss: 0.1980 - val_accuracy: 0.9639\n",
      "Epoch 00035: early stopping\n"
     ]
    },
    {
     "data": {
      "image/png": "[encoded data removed]",
      "text/plain": [
       "<Figure size 864x360 with 2 Axes>"
      ]
     },
     "metadata": {
      "needs_background": "light"
     },
     "output_type": "display_data"
    }
   ],
   "source": [
    "model = get_model()\n",
    "model.summary()\n",
    "model.compile(optimizer=\"Adam\", loss=\"categorical_crossentropy\", metrics=[\"accuracy\"])\n",
    "\n",
    "checkpoint_best_only = ModelCheckpoint(save_freq=\"epoch\", save_best_only=True,\n",
    "                                       filepath=\"model_checkpoints/experiment1/mlp/best_only\") \n",
    "early_stopping = EarlyStopping(monitor='val_loss', patience=20, verbose=1)\n",
    "\n",
    "history = model.fit(dataset['speaker1']['data'], dataset['speaker1']['labels'], epochs=70, batch_size=256, validation_split=0.15, \n",
    "                    callbacks=[early_stopping, checkpoint_best_only], \n",
    "                    verbose=2)\n",
    "\n",
    "hp.plot_metrics(history)"
   ]
  },
  {
   "cell_type": "code",
   "execution_count": 5,
   "id": "27c33fff",
   "metadata": {},
   "outputs": [
    {
     "name": "stdout",
     "output_type": "stream",
     "text": [
      "speaker1 - test loss: 0.035 - test accuracy: 0.995\n",
      "speaker2 - test loss: 6.541 - test accuracy: 0.207\n",
      "speaker3 - test loss: 2.818 - test accuracy: 0.414\n",
      "speaker4 - test loss: 6.894 - test accuracy: 0.272\n",
      "speaker5 - test loss: 3.170 - test accuracy: 0.520\n"
     ]
    }
   ],
   "source": [
    "for speaker in all_speakers:\n",
    "    test_loss, test_accuracy = model.evaluate(dataset[speaker]['data'], dataset[speaker]['labels'], verbose=0)\n",
    "    print(f\"{speaker} - test loss: {test_loss:0.3f} - test accuracy: {test_accuracy:0.3f}\")"
   ]
  },
  {
   "cell_type": "markdown",
   "id": "0b0e8bc4",
   "metadata": {},
   "source": [
    "## Experiment 2\n",
    "### Train on all speakers and test on each speaker"
   ]
  },
  {
   "cell_type": "markdown",
   "id": "18c67a9f",
   "metadata": {},
   "source": [
    "Creating train and test data"
   ]
  },
  {
   "cell_type": "code",
   "execution_count": 6,
   "id": "3933fd69",
   "metadata": {},
   "outputs": [],
   "source": [
    "test_size = 0.3"
   ]
  },
  {
   "cell_type": "code",
   "execution_count": 7,
   "id": "18eead3c",
   "metadata": {},
   "outputs": [
    {
     "name": "stdout",
     "output_type": "stream",
     "text": [
      "Train data shape : (1736, 400, 13, 1)\n",
      "Train labels shape : (1736, 11)\n",
      "speaker2 test data shape : (132, 400, 13, 1)\n",
      "speaker2 test labels shape : (132, 11)\n",
      "speaker3 test data shape : (132, 400, 13, 1)\n",
      "speaker3 test labels shape : (132, 11)\n",
      "speaker4 test data shape : (150, 400, 13, 1)\n",
      "speaker4 test labels shape : (150, 11)\n",
      "speaker5 test data shape : (165, 400, 13, 1)\n",
      "speaker5 test labels shape : (165, 11)\n"
     ]
    }
   ],
   "source": [
    "train_data = dataset['speaker1']['data'][:np.floor(dataset['speaker1']['data'].shape[0]*(1-test_size)).astype(int), ...]\n",
    "train_labels = dataset['speaker1']['labels'][:np.floor(dataset['speaker1']['labels'].shape[0]*(1-test_size)).astype(int), ...]\n",
    "\n",
    "test_dict = {\n",
    "    'speaker1': {\n",
    "        'data': dataset['speaker1']['data'][np.floor(dataset['speaker1']['data'].shape[0]*(1-test_size)).astype(int):, ...],\n",
    "        'labels': dataset['speaker1']['labels'][np.floor(dataset['speaker1']['labels'].shape[0]*(1-test_size)).astype(int):, ...]\n",
    "    }\n",
    "}\n",
    "\n",
    "for speaker in ['speaker2', 'speaker3', 'speaker4', 'speaker5']:\n",
    "    train_data = np.append(train_data, dataset[speaker]['data'][:np.floor(dataset[speaker]['data'].shape[0]*(1-test_size)).astype(int), ...], axis=0)\n",
    "    train_labels = np.append(train_labels, dataset[speaker]['labels'][:np.floor(dataset[speaker]['labels'].shape[0]*(1-test_size)).astype(int), ...], axis=0)\n",
    "    test_dict[speaker] = {\n",
    "        'data': dataset[speaker]['data'][np.floor(dataset[speaker]['data'].shape[0]*(1-test_size)).astype(int):, ...] ,\n",
    "        'labels': dataset[speaker]['labels'][np.floor(dataset[speaker]['labels'].shape[0]*(1-test_size)).astype(int):, ...]\n",
    "    }\n",
    "\n",
    "print(f'Train data shape : {train_data.shape}')\n",
    "print(f'Train labels shape : {train_labels.shape}')\n",
    "for speaker in ['speaker2', 'speaker3', 'speaker4', 'speaker5']:\n",
    "    print(f'{speaker} test data shape : {test_dict[speaker][\"data\"].shape}')\n",
    "    print(f'{speaker} test labels shape : {test_dict[speaker][\"labels\"].shape}')"
   ]
  },
  {
   "cell_type": "markdown",
   "id": "1a2603e7",
   "metadata": {
    "tags": []
   },
   "source": [
    "Keras Model"
   ]
  },
  {
   "cell_type": "code",
   "execution_count": 8,
   "id": "a578af01",
   "metadata": {},
   "outputs": [
    {
     "name": "stdout",
     "output_type": "stream",
     "text": [
      "Model: \"sequential_1\"\n",
      "_________________________________________________________________\n",
      "Layer (type)                 Output Shape              Param #   \n",
      "=================================================================\n",
      "flatten (Flatten)            (None, 5200)              0         \n",
      "_________________________________________________________________\n",
      "dense_1 (Dense)              (None, 256)               1331456   \n",
      "_________________________________________________________________\n",
      "dense_2 (Dense)              (None, 128)               32896     \n",
      "_________________________________________________________________\n",
      "dense_3 (Dense)              (None, 128)               16512     \n",
      "_________________________________________________________________\n",
      "dense_4 (Dense)              (None, 64)                8256      \n",
      "_________________________________________________________________\n",
      "dense_5 (Dense)              (None, 11)                715       \n",
      "=================================================================\n",
      "Total params: 1,389,835\n",
      "Trainable params: 1,389,835\n",
      "Non-trainable params: 0\n",
      "_________________________________________________________________\n",
      "Epoch 1/70\n",
      "6/6 - 1s - loss: 2.1677 - accuracy: 0.3234 - val_loss: 1.6356 - val_accuracy: 0.4981\n",
      "INFO:tensorflow:Assets written to: model_checkpoints/experiment2/mlp/best_only/assets\n",
      "Epoch 2/70\n",
      "6/6 - 0s - loss: 1.0284 - accuracy: 0.6902 - val_loss: 1.1087 - val_accuracy: 0.6897\n",
      "INFO:tensorflow:Assets written to: model_checkpoints/experiment2/mlp/best_only/assets\n",
      "Epoch 3/70\n",
      "6/6 - 0s - loss: 0.5191 - accuracy: 0.8447 - val_loss: 0.6580 - val_accuracy: 0.8161\n",
      "INFO:tensorflow:Assets written to: model_checkpoints/experiment2/mlp/best_only/assets\n",
      "Epoch 4/70\n",
      "6/6 - 0s - loss: 0.2486 - accuracy: 0.9336 - val_loss: 0.3656 - val_accuracy: 0.9234\n",
      "INFO:tensorflow:Assets written to: model_checkpoints/experiment2/mlp/best_only/assets\n",
      "Epoch 5/70\n",
      "6/6 - 0s - loss: 0.1434 - accuracy: 0.9675 - val_loss: 0.2402 - val_accuracy: 0.9579\n",
      "INFO:tensorflow:Assets written to: model_checkpoints/experiment2/mlp/best_only/assets\n",
      "Epoch 6/70\n",
      "6/6 - 0s - loss: 0.0756 - accuracy: 0.9858 - val_loss: 0.1981 - val_accuracy: 0.9693\n",
      "INFO:tensorflow:Assets written to: model_checkpoints/experiment2/mlp/best_only/assets\n",
      "Epoch 7/70\n",
      "6/6 - 0s - loss: 0.0395 - accuracy: 0.9966 - val_loss: 0.2196 - val_accuracy: 0.9617\n",
      "Epoch 8/70\n",
      "6/6 - 0s - loss: 0.0230 - accuracy: 1.0000 - val_loss: 0.1697 - val_accuracy: 0.9655\n",
      "INFO:tensorflow:Assets written to: model_checkpoints/experiment2/mlp/best_only/assets\n",
      "Epoch 9/70\n",
      "6/6 - 0s - loss: 0.0173 - accuracy: 0.9986 - val_loss: 0.1587 - val_accuracy: 0.9693\n",
      "INFO:tensorflow:Assets written to: model_checkpoints/experiment2/mlp/best_only/assets\n",
      "Epoch 10/70\n",
      "6/6 - 0s - loss: 0.0131 - accuracy: 1.0000 - val_loss: 0.1475 - val_accuracy: 0.9732\n",
      "INFO:tensorflow:Assets written to: model_checkpoints/experiment2/mlp/best_only/assets\n",
      "Epoch 11/70\n",
      "6/6 - 0s - loss: 0.0111 - accuracy: 0.9993 - val_loss: 0.1615 - val_accuracy: 0.9732\n",
      "Epoch 12/70\n",
      "6/6 - 0s - loss: 0.0098 - accuracy: 1.0000 - val_loss: 0.1649 - val_accuracy: 0.9693\n",
      "Epoch 13/70\n",
      "6/6 - 0s - loss: 0.0089 - accuracy: 1.0000 - val_loss: 0.1704 - val_accuracy: 0.9693\n",
      "Epoch 14/70\n",
      "6/6 - 0s - loss: 0.0085 - accuracy: 1.0000 - val_loss: 0.1750 - val_accuracy: 0.9693\n",
      "Epoch 15/70\n",
      "6/6 - 0s - loss: 0.0082 - accuracy: 1.0000 - val_loss: 0.1798 - val_accuracy: 0.9693\n",
      "Epoch 16/70\n",
      "6/6 - 0s - loss: 0.0080 - accuracy: 1.0000 - val_loss: 0.1817 - val_accuracy: 0.9693\n",
      "Epoch 17/70\n",
      "6/6 - 0s - loss: 0.0078 - accuracy: 1.0000 - val_loss: 0.1791 - val_accuracy: 0.9693\n",
      "Epoch 18/70\n",
      "6/6 - 0s - loss: 0.0077 - accuracy: 1.0000 - val_loss: 0.1761 - val_accuracy: 0.9693\n",
      "Epoch 19/70\n",
      "6/6 - 0s - loss: 0.0076 - accuracy: 1.0000 - val_loss: 0.1769 - val_accuracy: 0.9693\n",
      "Epoch 20/70\n",
      "6/6 - 0s - loss: 0.0075 - accuracy: 1.0000 - val_loss: 0.1797 - val_accuracy: 0.9693\n",
      "Epoch 21/70\n",
      "6/6 - 0s - loss: 0.0075 - accuracy: 1.0000 - val_loss: 0.1803 - val_accuracy: 0.9693\n",
      "Epoch 22/70\n",
      "6/6 - 0s - loss: 0.0074 - accuracy: 1.0000 - val_loss: 0.1800 - val_accuracy: 0.9693\n",
      "Epoch 23/70\n",
      "6/6 - 0s - loss: 0.0074 - accuracy: 1.0000 - val_loss: 0.1795 - val_accuracy: 0.9693\n",
      "Epoch 24/70\n",
      "6/6 - 0s - loss: 0.0073 - accuracy: 1.0000 - val_loss: 0.1803 - val_accuracy: 0.9693\n",
      "Epoch 25/70\n",
      "6/6 - 0s - loss: 0.0073 - accuracy: 1.0000 - val_loss: 0.1820 - val_accuracy: 0.9693\n",
      "Epoch 26/70\n",
      "6/6 - 0s - loss: 0.0072 - accuracy: 1.0000 - val_loss: 0.1824 - val_accuracy: 0.9693\n",
      "Epoch 27/70\n",
      "6/6 - 0s - loss: 0.0072 - accuracy: 1.0000 - val_loss: 0.1834 - val_accuracy: 0.9693\n",
      "Epoch 28/70\n",
      "6/6 - 0s - loss: 0.0071 - accuracy: 1.0000 - val_loss: 0.1843 - val_accuracy: 0.9693\n",
      "Epoch 29/70\n",
      "6/6 - 0s - loss: 0.0071 - accuracy: 1.0000 - val_loss: 0.1854 - val_accuracy: 0.9693\n",
      "Epoch 30/70\n",
      "6/6 - 0s - loss: 0.0071 - accuracy: 1.0000 - val_loss: 0.1861 - val_accuracy: 0.9693\n",
      "Epoch 00030: early stopping\n"
     ]
    },
    {
     "data": {
      "image/png": "[encoded data removed]",
      "text/plain": [
       "<Figure size 864x360 with 2 Axes>"
      ]
     },
     "metadata": {
      "needs_background": "light"
     },
     "output_type": "display_data"
    }
   ],
   "source": [
    "model = get_model()\n",
    "model.summary()\n",
    "model.compile(optimizer=\"Adam\", loss=\"categorical_crossentropy\", metrics=[\"accuracy\"])\n",
    "\n",
    "checkpoint_best_only = ModelCheckpoint(save_freq=\"epoch\", save_best_only=True,\n",
    "                                       filepath=\"model_checkpoints/experiment2/mlp/best_only\") \n",
    "early_stopping = EarlyStopping(monitor='val_loss', patience=20, verbose=1)\n",
    "\n",
    "history = model.fit(train_data, train_labels, epochs=70, batch_size=256, validation_split=0.15, \n",
    "                    callbacks=[early_stopping, checkpoint_best_only], \n",
    "                    verbose=2)\n",
    "\n",
    "hp.plot_metrics(history)"
   ]
  },
  {
   "cell_type": "code",
   "execution_count": 10,
   "id": "086461ec",
   "metadata": {},
   "outputs": [
    {
     "name": "stdout",
     "output_type": "stream",
     "text": [
      "speaker1 - test loss: 0.040 - test accuracy: 0.993\n",
      "speaker2 - test loss: 0.098 - test accuracy: 0.957\n",
      "speaker3 - test loss: 0.064 - test accuracy: 0.993\n",
      "speaker4 - test loss: 0.133 - test accuracy: 0.980\n",
      "speaker5 - test loss: 0.146 - test accuracy: 0.978\n"
     ]
    }
   ],
   "source": [
    "for speaker in all_speakers:\n",
    "    test_loss, test_accuracy = model.evaluate(dataset[speaker]['data'], dataset[speaker]['labels'], verbose=0)\n",
    "    print(f\"{speaker} - test loss: {test_loss:0.3f} - test accuracy: {test_accuracy:0.3f}\")"
   ]
  }
 ],
 "metadata": {
  "kernelspec": {
   "display_name": "Python 3",
   "language": "python",
   "name": "python3"
  },
  "language_info": {
   "codemirror_mode": {
    "name": "ipython",
    "version": 3
   },
   "file_extension": ".py",
   "mimetype": "text/x-python",
   "name": "python",
   "nbconvert_exporter": "python",
   "pygments_lexer": "ipython3",
   "version": "3.8.8"
  }
 },
 "nbformat": 4,
 "nbformat_minor": 5
}
