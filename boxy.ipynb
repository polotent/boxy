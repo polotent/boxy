{
 "cells": [
  {
   "cell_type": "code",
   "execution_count": 1,
   "id": "70456900",
   "metadata": {},
   "outputs": [],
   "source": [
    "import numpy as np\n",
    "import tensorflow as tf\n",
    "import matplotlib.pyplot as plt\n",
    "from model import get_model\n",
    "from tensorflow.keras.callbacks import EarlyStopping, ModelCheckpoint\n",
    "from tensorflow.keras.utils import to_categorical\n",
    "import helpers as hp"
   ]
  },
  {
   "cell_type": "code",
   "execution_count": 2,
   "id": "07af2d34",
   "metadata": {},
   "outputs": [],
   "source": [
    "commands, nums = hp.get_commands_dict('commands.csv')"
   ]
  },
  {
   "cell_type": "code",
   "execution_count": 3,
   "id": "7763ae9a",
   "metadata": {},
   "outputs": [
    {
     "name": "stdout",
     "output_type": "stream",
     "text": [
      "(550, 400, 13, 1)\n",
      "(550, 11)\n",
      "(440, 400, 13, 1)\n",
      "(440, 11)\n",
      "(440, 400, 13, 1)\n",
      "(440, 11)\n",
      "(500, 400, 13, 1)\n",
      "(500, 11)\n",
      "(550, 400, 13, 1)\n",
      "(550, 11)\n"
     ]
    }
   ],
   "source": [
    "all_speakers = ['speaker1', 'speaker2', 'speaker3', 'speaker4', 'speaker5']\n",
    "dataset = dict()\n",
    "for speaker in all_speakers:\n",
    "    data = hp.load_from_datafile(f'data/{speaker}_data.npy')\n",
    "    labels = hp.load_from_datafile(f'data/{speaker}_labels.npy')\n",
    "\n",
    "    data = data.reshape(data.shape + (1,))\n",
    "    labels = to_categorical([hp.get_num_by_command(label, commands) for label in labels], num_classes=11)\n",
    "    idx = np.random.permutation(data.shape[0])\n",
    "    data, labels = data[idx], labels[idx]\n",
    "    \n",
    "    dataset[speaker] = {\n",
    "        'data':   data,\n",
    "        'labels': labels \n",
    "    }\n",
    "    \n",
    "    print(dataset[speaker]['data'].shape)\n",
    "    print(dataset[speaker]['labels'].shape)"
   ]
  },
  {
   "cell_type": "code",
   "execution_count": null,
   "id": "f2b1563f",
   "metadata": {},
   "outputs": [],
   "source": []
  },
  {
   "cell_type": "markdown",
   "id": "f2b04b60",
   "metadata": {},
   "source": [
    "## Experiment 1 \n",
    "### Train on speaker 1 and test on each of others"
   ]
  },
  {
   "cell_type": "markdown",
   "id": "1e43f5cf",
   "metadata": {},
   "source": [
    "Keras Model"
   ]
  },
  {
   "cell_type": "code",
   "execution_count": 4,
   "id": "ea44c607",
   "metadata": {},
   "outputs": [
    {
     "name": "stdout",
     "output_type": "stream",
     "text": [
      "Model: \"sequential\"\n",
      "_________________________________________________________________\n",
      "Layer (type)                 Output Shape              Param #   \n",
      "=================================================================\n",
      "flatten (Flatten)            (None, 5200)              0         \n",
      "_________________________________________________________________\n",
      "dense_1 (Dense)              (None, 256)               1331456   \n",
      "_________________________________________________________________\n",
      "dense_2 (Dense)              (None, 128)               32896     \n",
      "_________________________________________________________________\n",
      "dense_3 (Dense)              (None, 128)               16512     \n",
      "_________________________________________________________________\n",
      "dense_4 (Dense)              (None, 64)                8256      \n",
      "_________________________________________________________________\n",
      "dense_5 (Dense)              (None, 11)                715       \n",
      "=================================================================\n",
      "Total params: 1,389,835\n",
      "Trainable params: 1,389,835\n",
      "Non-trainable params: 0\n",
      "_________________________________________________________________\n",
      "Epoch 1/70\n",
      "2/2 - 1s - loss: 5.1151 - accuracy: 0.1156 - val_loss: 2.5956 - val_accuracy: 0.2530\n",
      "INFO:tensorflow:Assets written to: model_checkpoints/experiment1/mlp/best_only/assets\n",
      "Epoch 2/70\n",
      "2/2 - 0s - loss: 2.4545 - accuracy: 0.3105 - val_loss: 1.6029 - val_accuracy: 0.4458\n",
      "INFO:tensorflow:Assets written to: model_checkpoints/experiment1/mlp/best_only/assets\n",
      "Epoch 3/70\n",
      "2/2 - 0s - loss: 1.4460 - accuracy: 0.5739 - val_loss: 1.1287 - val_accuracy: 0.6988\n",
      "INFO:tensorflow:Assets written to: model_checkpoints/experiment1/mlp/best_only/assets\n",
      "Epoch 4/70\n",
      "2/2 - 0s - loss: 0.9383 - accuracy: 0.7430 - val_loss: 0.9264 - val_accuracy: 0.7711\n",
      "INFO:tensorflow:Assets written to: model_checkpoints/experiment1/mlp/best_only/assets\n",
      "Epoch 5/70\n",
      "2/2 - 0s - loss: 0.5640 - accuracy: 0.8501 - val_loss: 0.8049 - val_accuracy: 0.7831\n",
      "INFO:tensorflow:Assets written to: model_checkpoints/experiment1/mlp/best_only/assets\n",
      "Epoch 6/70\n",
      "2/2 - 0s - loss: 0.3789 - accuracy: 0.9036 - val_loss: 0.7210 - val_accuracy: 0.7711\n",
      "INFO:tensorflow:Assets written to: model_checkpoints/experiment1/mlp/best_only/assets\n",
      "Epoch 7/70\n",
      "2/2 - 0s - loss: 0.2821 - accuracy: 0.9251 - val_loss: 0.7023 - val_accuracy: 0.7590\n",
      "INFO:tensorflow:Assets written to: model_checkpoints/experiment1/mlp/best_only/assets\n",
      "Epoch 8/70\n",
      "2/2 - 0s - loss: 0.2050 - accuracy: 0.9465 - val_loss: 0.6325 - val_accuracy: 0.7952\n",
      "INFO:tensorflow:Assets written to: model_checkpoints/experiment1/mlp/best_only/assets\n",
      "Epoch 9/70\n",
      "2/2 - 0s - loss: 0.1537 - accuracy: 0.9700 - val_loss: 0.6064 - val_accuracy: 0.8313\n",
      "INFO:tensorflow:Assets written to: model_checkpoints/experiment1/mlp/best_only/assets\n",
      "Epoch 10/70\n",
      "2/2 - 0s - loss: 0.1047 - accuracy: 0.9764 - val_loss: 0.5888 - val_accuracy: 0.8193\n",
      "INFO:tensorflow:Assets written to: model_checkpoints/experiment1/mlp/best_only/assets\n",
      "Epoch 11/70\n",
      "2/2 - 0s - loss: 0.0756 - accuracy: 0.9914 - val_loss: 0.5921 - val_accuracy: 0.8554\n",
      "Epoch 12/70\n",
      "2/2 - 0s - loss: 0.0543 - accuracy: 0.9957 - val_loss: 0.5363 - val_accuracy: 0.8795\n",
      "INFO:tensorflow:Assets written to: model_checkpoints/experiment1/mlp/best_only/assets\n",
      "Epoch 13/70\n",
      "2/2 - 0s - loss: 0.0439 - accuracy: 0.9957 - val_loss: 0.5068 - val_accuracy: 0.8795\n",
      "INFO:tensorflow:Assets written to: model_checkpoints/experiment1/mlp/best_only/assets\n",
      "Epoch 14/70\n",
      "2/2 - 0s - loss: 0.0347 - accuracy: 0.9957 - val_loss: 0.5271 - val_accuracy: 0.8675\n",
      "Epoch 15/70\n",
      "2/2 - 0s - loss: 0.0288 - accuracy: 1.0000 - val_loss: 0.4984 - val_accuracy: 0.8916\n",
      "INFO:tensorflow:Assets written to: model_checkpoints/experiment1/mlp/best_only/assets\n",
      "Epoch 16/70\n",
      "2/2 - 0s - loss: 0.0230 - accuracy: 1.0000 - val_loss: 0.4530 - val_accuracy: 0.8916\n",
      "INFO:tensorflow:Assets written to: model_checkpoints/experiment1/mlp/best_only/assets\n",
      "Epoch 17/70\n",
      "2/2 - 0s - loss: 0.0206 - accuracy: 1.0000 - val_loss: 0.4308 - val_accuracy: 0.8916\n",
      "INFO:tensorflow:Assets written to: model_checkpoints/experiment1/mlp/best_only/assets\n",
      "Epoch 18/70\n",
      "2/2 - 0s - loss: 0.0176 - accuracy: 1.0000 - val_loss: 0.4267 - val_accuracy: 0.9157\n",
      "INFO:tensorflow:Assets written to: model_checkpoints/experiment1/mlp/best_only/assets\n",
      "Epoch 19/70\n",
      "2/2 - 0s - loss: 0.0152 - accuracy: 1.0000 - val_loss: 0.4315 - val_accuracy: 0.9157\n",
      "Epoch 20/70\n",
      "2/2 - 0s - loss: 0.0141 - accuracy: 1.0000 - val_loss: 0.4253 - val_accuracy: 0.9157\n",
      "INFO:tensorflow:Assets written to: model_checkpoints/experiment1/mlp/best_only/assets\n",
      "Epoch 21/70\n",
      "2/2 - 0s - loss: 0.0132 - accuracy: 1.0000 - val_loss: 0.3994 - val_accuracy: 0.9036\n",
      "INFO:tensorflow:Assets written to: model_checkpoints/experiment1/mlp/best_only/assets\n",
      "Epoch 22/70\n",
      "2/2 - 0s - loss: 0.0123 - accuracy: 1.0000 - val_loss: 0.3769 - val_accuracy: 0.9157\n",
      "INFO:tensorflow:Assets written to: model_checkpoints/experiment1/mlp/best_only/assets\n",
      "Epoch 23/70\n",
      "2/2 - 0s - loss: 0.0116 - accuracy: 1.0000 - val_loss: 0.3671 - val_accuracy: 0.9398\n",
      "INFO:tensorflow:Assets written to: model_checkpoints/experiment1/mlp/best_only/assets\n",
      "Epoch 24/70\n",
      "2/2 - 0s - loss: 0.0110 - accuracy: 1.0000 - val_loss: 0.3668 - val_accuracy: 0.9277\n",
      "INFO:tensorflow:Assets written to: model_checkpoints/experiment1/mlp/best_only/assets\n",
      "Epoch 25/70\n",
      "2/2 - 0s - loss: 0.0106 - accuracy: 1.0000 - val_loss: 0.3723 - val_accuracy: 0.9277\n",
      "Epoch 26/70\n",
      "2/2 - 0s - loss: 0.0103 - accuracy: 1.0000 - val_loss: 0.3781 - val_accuracy: 0.9277\n",
      "Epoch 27/70\n",
      "2/2 - 0s - loss: 0.0101 - accuracy: 1.0000 - val_loss: 0.3820 - val_accuracy: 0.9277\n",
      "Epoch 28/70\n",
      "2/2 - 0s - loss: 0.0099 - accuracy: 1.0000 - val_loss: 0.3795 - val_accuracy: 0.9277\n",
      "Epoch 29/70\n",
      "2/2 - 0s - loss: 0.0098 - accuracy: 1.0000 - val_loss: 0.3748 - val_accuracy: 0.9277\n",
      "Epoch 30/70\n",
      "2/2 - 0s - loss: 0.0096 - accuracy: 1.0000 - val_loss: 0.3683 - val_accuracy: 0.9398\n",
      "Epoch 31/70\n",
      "2/2 - 0s - loss: 0.0095 - accuracy: 1.0000 - val_loss: 0.3631 - val_accuracy: 0.9398\n",
      "INFO:tensorflow:Assets written to: model_checkpoints/experiment1/mlp/best_only/assets\n",
      "Epoch 32/70\n",
      "2/2 - 0s - loss: 0.0094 - accuracy: 1.0000 - val_loss: 0.3586 - val_accuracy: 0.9277\n",
      "INFO:tensorflow:Assets written to: model_checkpoints/experiment1/mlp/best_only/assets\n",
      "Epoch 33/70\n",
      "2/2 - 0s - loss: 0.0093 - accuracy: 1.0000 - val_loss: 0.3567 - val_accuracy: 0.9277\n",
      "INFO:tensorflow:Assets written to: model_checkpoints/experiment1/mlp/best_only/assets\n",
      "Epoch 34/70\n",
      "2/2 - 0s - loss: 0.0092 - accuracy: 1.0000 - val_loss: 0.3565 - val_accuracy: 0.9398\n",
      "INFO:tensorflow:Assets written to: model_checkpoints/experiment1/mlp/best_only/assets\n",
      "Epoch 35/70\n",
      "2/2 - 0s - loss: 0.0091 - accuracy: 1.0000 - val_loss: 0.3563 - val_accuracy: 0.9398\n",
      "INFO:tensorflow:Assets written to: model_checkpoints/experiment1/mlp/best_only/assets\n",
      "Epoch 36/70\n",
      "2/2 - 0s - loss: 0.0090 - accuracy: 1.0000 - val_loss: 0.3572 - val_accuracy: 0.9398\n",
      "Epoch 37/70\n",
      "2/2 - 0s - loss: 0.0090 - accuracy: 1.0000 - val_loss: 0.3570 - val_accuracy: 0.9398\n",
      "Epoch 38/70\n",
      "2/2 - 0s - loss: 0.0089 - accuracy: 1.0000 - val_loss: 0.3579 - val_accuracy: 0.9398\n",
      "Epoch 39/70\n",
      "2/2 - 0s - loss: 0.0089 - accuracy: 1.0000 - val_loss: 0.3602 - val_accuracy: 0.9398\n",
      "Epoch 40/70\n",
      "2/2 - 0s - loss: 0.0088 - accuracy: 1.0000 - val_loss: 0.3604 - val_accuracy: 0.9398\n",
      "Epoch 41/70\n",
      "2/2 - 0s - loss: 0.0088 - accuracy: 1.0000 - val_loss: 0.3562 - val_accuracy: 0.9398\n",
      "INFO:tensorflow:Assets written to: model_checkpoints/experiment1/mlp/best_only/assets\n",
      "Epoch 42/70\n",
      "2/2 - 0s - loss: 0.0087 - accuracy: 1.0000 - val_loss: 0.3535 - val_accuracy: 0.9518\n",
      "INFO:tensorflow:Assets written to: model_checkpoints/experiment1/mlp/best_only/assets\n",
      "Epoch 43/70\n",
      "2/2 - 0s - loss: 0.0087 - accuracy: 1.0000 - val_loss: 0.3538 - val_accuracy: 0.9518\n",
      "Epoch 44/70\n",
      "2/2 - 0s - loss: 0.0086 - accuracy: 1.0000 - val_loss: 0.3559 - val_accuracy: 0.9398\n",
      "Epoch 45/70\n",
      "2/2 - 0s - loss: 0.0086 - accuracy: 1.0000 - val_loss: 0.3573 - val_accuracy: 0.9398\n",
      "Epoch 46/70\n",
      "2/2 - 0s - loss: 0.0086 - accuracy: 1.0000 - val_loss: 0.3549 - val_accuracy: 0.9518\n",
      "Epoch 47/70\n",
      "2/2 - 0s - loss: 0.0085 - accuracy: 1.0000 - val_loss: 0.3535 - val_accuracy: 0.9518\n",
      "Epoch 48/70\n",
      "2/2 - 0s - loss: 0.0085 - accuracy: 1.0000 - val_loss: 0.3537 - val_accuracy: 0.9518\n",
      "Epoch 49/70\n",
      "2/2 - 0s - loss: 0.0084 - accuracy: 1.0000 - val_loss: 0.3559 - val_accuracy: 0.9518\n",
      "Epoch 50/70\n",
      "2/2 - 0s - loss: 0.0084 - accuracy: 1.0000 - val_loss: 0.3558 - val_accuracy: 0.9398\n",
      "Epoch 51/70\n",
      "2/2 - 0s - loss: 0.0084 - accuracy: 1.0000 - val_loss: 0.3544 - val_accuracy: 0.9398\n",
      "Epoch 52/70\n",
      "2/2 - 0s - loss: 0.0084 - accuracy: 1.0000 - val_loss: 0.3569 - val_accuracy: 0.9398\n",
      "Epoch 53/70\n",
      "2/2 - 0s - loss: 0.0083 - accuracy: 1.0000 - val_loss: 0.3550 - val_accuracy: 0.9398\n",
      "Epoch 54/70\n",
      "2/2 - 0s - loss: 0.0083 - accuracy: 1.0000 - val_loss: 0.3541 - val_accuracy: 0.9398\n",
      "Epoch 55/70\n",
      "2/2 - 0s - loss: 0.0083 - accuracy: 1.0000 - val_loss: 0.3528 - val_accuracy: 0.9518\n",
      "INFO:tensorflow:Assets written to: model_checkpoints/experiment1/mlp/best_only/assets\n",
      "Epoch 56/70\n",
      "2/2 - 0s - loss: 0.0083 - accuracy: 1.0000 - val_loss: 0.3529 - val_accuracy: 0.9518\n",
      "Epoch 57/70\n",
      "2/2 - 0s - loss: 0.0082 - accuracy: 1.0000 - val_loss: 0.3522 - val_accuracy: 0.9518\n",
      "INFO:tensorflow:Assets written to: model_checkpoints/experiment1/mlp/best_only/assets\n",
      "Epoch 58/70\n",
      "2/2 - 0s - loss: 0.0082 - accuracy: 1.0000 - val_loss: 0.3523 - val_accuracy: 0.9518\n",
      "Epoch 59/70\n",
      "2/2 - 0s - loss: 0.0082 - accuracy: 1.0000 - val_loss: 0.3505 - val_accuracy: 0.9518\n",
      "INFO:tensorflow:Assets written to: model_checkpoints/experiment1/mlp/best_only/assets\n",
      "Epoch 60/70\n",
      "2/2 - 0s - loss: 0.0082 - accuracy: 1.0000 - val_loss: 0.3497 - val_accuracy: 0.9518\n",
      "INFO:tensorflow:Assets written to: model_checkpoints/experiment1/mlp/best_only/assets\n",
      "Epoch 61/70\n",
      "2/2 - 0s - loss: 0.0082 - accuracy: 1.0000 - val_loss: 0.3534 - val_accuracy: 0.9518\n",
      "Epoch 62/70\n",
      "2/2 - 0s - loss: 0.0081 - accuracy: 1.0000 - val_loss: 0.3536 - val_accuracy: 0.9518\n",
      "Epoch 63/70\n",
      "2/2 - 0s - loss: 0.0081 - accuracy: 1.0000 - val_loss: 0.3491 - val_accuracy: 0.9518\n",
      "INFO:tensorflow:Assets written to: model_checkpoints/experiment1/mlp/best_only/assets\n",
      "Epoch 64/70\n",
      "2/2 - 0s - loss: 0.0081 - accuracy: 1.0000 - val_loss: 0.3558 - val_accuracy: 0.9518\n",
      "Epoch 65/70\n",
      "2/2 - 0s - loss: 0.0081 - accuracy: 1.0000 - val_loss: 0.3595 - val_accuracy: 0.9518\n",
      "Epoch 66/70\n",
      "2/2 - 0s - loss: 0.0081 - accuracy: 1.0000 - val_loss: 0.3579 - val_accuracy: 0.9518\n",
      "Epoch 67/70\n",
      "2/2 - 0s - loss: 0.0080 - accuracy: 1.0000 - val_loss: 0.3560 - val_accuracy: 0.9518\n",
      "Epoch 68/70\n",
      "2/2 - 0s - loss: 0.0080 - accuracy: 1.0000 - val_loss: 0.3577 - val_accuracy: 0.9518\n",
      "Epoch 69/70\n",
      "2/2 - 0s - loss: 0.0080 - accuracy: 1.0000 - val_loss: 0.3645 - val_accuracy: 0.9518\n",
      "Epoch 70/70\n",
      "2/2 - 0s - loss: 0.0080 - accuracy: 1.0000 - val_loss: 0.3635 - val_accuracy: 0.9518\n"
     ]
    },
    {
     "data": {
      "image/png": "[encoded data removed]",
      "text/plain": [
       "<Figure size 864x360 with 2 Axes>"
      ]
     },
     "metadata": {
      "needs_background": "light"
     },
     "output_type": "display_data"
    }
   ],
   "source": [
    "model = get_model()\n",
    "model.summary()\n",
    "model.compile(optimizer=\"Adam\", loss=\"categorical_crossentropy\", metrics=[\"accuracy\"])\n",
    "\n",
    "checkpoint_best_only = ModelCheckpoint(save_freq=\"epoch\", save_best_only=True,\n",
    "                                       filepath=\"model_checkpoints/experiment1/mlp/best_only\") \n",
    "early_stopping = EarlyStopping(monitor='val_loss', patience=20, verbose=1)\n",
    "\n",
    "history = model.fit(dataset['speaker1']['data'], dataset['speaker1']['labels'], epochs=70, batch_size=256, validation_split=0.15, \n",
    "                    callbacks=[early_stopping, checkpoint_best_only], \n",
    "                    verbose=2)\n",
    "\n",
    "hp.plot_metrics(history)"
   ]
  },
  {
   "cell_type": "code",
   "execution_count": 13,
   "id": "d37fc321",
   "metadata": {},
   "outputs": [
    {
     "name": "stdout",
     "output_type": "stream",
     "text": [
      "speaker1 - test loss: 0.096 - test accuracy: 0.975\n",
      "speaker2 - test loss: 0.087 - test accuracy: 0.977\n",
      "speaker3 - test loss: 0.041 - test accuracy: 0.991\n",
      "speaker4 - test loss: 0.229 - test accuracy: 0.962\n",
      "speaker5 - test loss: 0.067 - test accuracy: 0.982\n"
     ]
    }
   ],
   "source": [
    "for speaker in all_speakers:\n",
    "    test_loss, test_accuracy = model.evaluate(dataset[speaker]['data'], dataset[speaker]['labels'], verbose=0)\n",
    "    print(f\"{speaker} - test loss: {test_loss:0.3f} - test accuracy: {test_accuracy:0.3f}\")"
   ]
  },
  {
   "cell_type": "markdown",
   "id": "62474925",
   "metadata": {},
   "source": [
    "## Experiment 2\n",
    "### Train on all speakers and test on each speaker"
   ]
  },
  {
   "cell_type": "markdown",
   "id": "bfeca1d5",
   "metadata": {},
   "source": [
    "Creating train and test data"
   ]
  },
  {
   "cell_type": "code",
   "execution_count": 6,
   "id": "ffd179ea",
   "metadata": {},
   "outputs": [],
   "source": [
    "test_size = 0.3"
   ]
  },
  {
   "cell_type": "code",
   "execution_count": 7,
   "id": "f2b5cd7b",
   "metadata": {},
   "outputs": [
    {
     "name": "stdout",
     "output_type": "stream",
     "text": [
      "Train data shape : (1736, 400, 13, 1)\n",
      "Train labels shape : (1736, 11)\n",
      "speaker2 test data shape : (132, 400, 13, 1)\n",
      "speaker2 test labels shape : (132, 11)\n",
      "speaker3 test data shape : (132, 400, 13, 1)\n",
      "speaker3 test labels shape : (132, 11)\n",
      "speaker4 test data shape : (150, 400, 13, 1)\n",
      "speaker4 test labels shape : (150, 11)\n",
      "speaker5 test data shape : (165, 400, 13, 1)\n",
      "speaker5 test labels shape : (165, 11)\n"
     ]
    }
   ],
   "source": [
    "train_data = dataset['speaker1']['data'][:np.floor(dataset['speaker1']['data'].shape[0]*(1-test_size)).astype(int), ...]\n",
    "train_labels = dataset['speaker1']['labels'][:np.floor(dataset['speaker1']['labels'].shape[0]*(1-test_size)).astype(int), ...]\n",
    "\n",
    "test_dict = {\n",
    "    'speaker1': {\n",
    "        'data': dataset['speaker1']['data'][np.floor(dataset['speaker1']['data'].shape[0]*(1-test_size)).astype(int):, ...],\n",
    "        'labels': dataset['speaker1']['labels'][np.floor(dataset['speaker1']['labels'].shape[0]*(1-test_size)).astype(int):, ...]\n",
    "    }\n",
    "}\n",
    "\n",
    "for speaker in ['speaker2', 'speaker3', 'speaker4', 'speaker5']:\n",
    "    train_data = np.append(train_data, dataset[speaker]['data'][:np.floor(dataset[speaker]['data'].shape[0]*(1-test_size)).astype(int), ...], axis=0)\n",
    "    train_labels = np.append(train_labels, dataset[speaker]['labels'][:np.floor(dataset[speaker]['labels'].shape[0]*(1-test_size)).astype(int), ...], axis=0)\n",
    "    test_dict[speaker] = {\n",
    "        'data': dataset[speaker]['data'][np.floor(dataset[speaker]['data'].shape[0]*(1-test_size)).astype(int):, ...] ,\n",
    "        'labels': dataset[speaker]['labels'][np.floor(dataset[speaker]['labels'].shape[0]*(1-test_size)).astype(int):, ...]\n",
    "    }\n",
    "\n",
    "print(f'Train data shape : {train_data.shape}')\n",
    "print(f'Train labels shape : {train_labels.shape}')\n",
    "for speaker in ['speaker2', 'speaker3', 'speaker4', 'speaker5']:\n",
    "    print(f'{speaker} test data shape : {test_dict[speaker][\"data\"].shape}')\n",
    "    print(f'{speaker} test labels shape : {test_dict[speaker][\"labels\"].shape}')"
   ]
  },
  {
   "cell_type": "markdown",
   "id": "97ad09b1",
   "metadata": {
    "tags": []
   },
   "source": [
    "Keras Model"
   ]
  },
  {
   "cell_type": "code",
   "execution_count": 8,
   "id": "dbd6be7e",
   "metadata": {},
   "outputs": [
    {
     "name": "stdout",
     "output_type": "stream",
     "text": [
      "Model: \"sequential_1\"\n",
      "_________________________________________________________________\n",
      "Layer (type)                 Output Shape              Param #   \n",
      "=================================================================\n",
      "flatten (Flatten)            (None, 5200)              0         \n",
      "_________________________________________________________________\n",
      "dense_1 (Dense)              (None, 256)               1331456   \n",
      "_________________________________________________________________\n",
      "dense_2 (Dense)              (None, 128)               32896     \n",
      "_________________________________________________________________\n",
      "dense_3 (Dense)              (None, 128)               16512     \n",
      "_________________________________________________________________\n",
      "dense_4 (Dense)              (None, 64)                8256      \n",
      "_________________________________________________________________\n",
      "dense_5 (Dense)              (None, 11)                715       \n",
      "=================================================================\n",
      "Total params: 1,389,835\n",
      "Trainable params: 1,389,835\n",
      "Non-trainable params: 0\n",
      "_________________________________________________________________\n",
      "Epoch 1/70\n",
      "6/6 - 1s - loss: 2.4631 - accuracy: 0.2963 - val_loss: 1.4939 - val_accuracy: 0.5326\n",
      "INFO:tensorflow:Assets written to: model_checkpoints/experiment2/mlp/best_only/assets\n",
      "Epoch 2/70\n",
      "6/6 - 0s - loss: 1.1452 - accuracy: 0.6515 - val_loss: 1.1429 - val_accuracy: 0.6130\n",
      "INFO:tensorflow:Assets written to: model_checkpoints/experiment2/mlp/best_only/assets\n",
      "Epoch 3/70\n",
      "6/6 - 0s - loss: 0.6778 - accuracy: 0.8061 - val_loss: 0.6036 - val_accuracy: 0.8008\n",
      "INFO:tensorflow:Assets written to: model_checkpoints/experiment2/mlp/best_only/assets\n",
      "Epoch 4/70\n",
      "6/6 - 0s - loss: 0.3614 - accuracy: 0.8929 - val_loss: 0.3309 - val_accuracy: 0.9119\n",
      "INFO:tensorflow:Assets written to: model_checkpoints/experiment2/mlp/best_only/assets\n",
      "Epoch 5/70\n",
      "6/6 - 0s - loss: 0.2165 - accuracy: 0.9478 - val_loss: 0.1908 - val_accuracy: 0.9540\n",
      "INFO:tensorflow:Assets written to: model_checkpoints/experiment2/mlp/best_only/assets\n",
      "Epoch 6/70\n",
      "6/6 - 0s - loss: 0.1166 - accuracy: 0.9763 - val_loss: 0.1141 - val_accuracy: 0.9770\n",
      "INFO:tensorflow:Assets written to: model_checkpoints/experiment2/mlp/best_only/assets\n",
      "Epoch 7/70\n",
      "6/6 - 0s - loss: 0.0815 - accuracy: 0.9837 - val_loss: 0.1412 - val_accuracy: 0.9617\n",
      "Epoch 8/70\n",
      "6/6 - 0s - loss: 0.0643 - accuracy: 0.9871 - val_loss: 0.1028 - val_accuracy: 0.9732\n",
      "INFO:tensorflow:Assets written to: model_checkpoints/experiment2/mlp/best_only/assets\n",
      "Epoch 9/70\n",
      "6/6 - 0s - loss: 0.0496 - accuracy: 0.9919 - val_loss: 0.0983 - val_accuracy: 0.9732\n",
      "INFO:tensorflow:Assets written to: model_checkpoints/experiment2/mlp/best_only/assets\n",
      "Epoch 10/70\n",
      "6/6 - 0s - loss: 0.0325 - accuracy: 0.9966 - val_loss: 0.0702 - val_accuracy: 0.9770\n",
      "INFO:tensorflow:Assets written to: model_checkpoints/experiment2/mlp/best_only/assets\n",
      "Epoch 11/70\n",
      "6/6 - 0s - loss: 0.0247 - accuracy: 0.9986 - val_loss: 0.0884 - val_accuracy: 0.9732\n",
      "Epoch 12/70\n",
      "6/6 - 0s - loss: 0.0183 - accuracy: 0.9993 - val_loss: 0.0848 - val_accuracy: 0.9732\n",
      "Epoch 13/70\n",
      "6/6 - 0s - loss: 0.0155 - accuracy: 0.9993 - val_loss: 0.0744 - val_accuracy: 0.9770\n",
      "Epoch 14/70\n",
      "6/6 - 0s - loss: 0.0134 - accuracy: 1.0000 - val_loss: 0.0740 - val_accuracy: 0.9770\n",
      "Epoch 15/70\n",
      "6/6 - 0s - loss: 0.0123 - accuracy: 1.0000 - val_loss: 0.0783 - val_accuracy: 0.9770\n",
      "Epoch 16/70\n",
      "6/6 - 0s - loss: 0.0119 - accuracy: 1.0000 - val_loss: 0.0814 - val_accuracy: 0.9770\n",
      "Epoch 17/70\n",
      "6/6 - 0s - loss: 0.0113 - accuracy: 1.0000 - val_loss: 0.0827 - val_accuracy: 0.9770\n",
      "Epoch 18/70\n",
      "6/6 - 0s - loss: 0.0110 - accuracy: 1.0000 - val_loss: 0.0836 - val_accuracy: 0.9770\n",
      "Epoch 19/70\n",
      "6/6 - 0s - loss: 0.0108 - accuracy: 1.0000 - val_loss: 0.0828 - val_accuracy: 0.9770\n",
      "Epoch 20/70\n",
      "6/6 - 0s - loss: 0.0106 - accuracy: 1.0000 - val_loss: 0.0829 - val_accuracy: 0.9770\n",
      "Epoch 21/70\n",
      "6/6 - 0s - loss: 0.0105 - accuracy: 1.0000 - val_loss: 0.0830 - val_accuracy: 0.9770\n",
      "Epoch 22/70\n",
      "6/6 - 0s - loss: 0.0104 - accuracy: 1.0000 - val_loss: 0.0826 - val_accuracy: 0.9770\n",
      "Epoch 23/70\n",
      "6/6 - 0s - loss: 0.0103 - accuracy: 1.0000 - val_loss: 0.0830 - val_accuracy: 0.9770\n",
      "Epoch 24/70\n",
      "6/6 - 0s - loss: 0.0102 - accuracy: 1.0000 - val_loss: 0.0835 - val_accuracy: 0.9770\n",
      "Epoch 25/70\n",
      "6/6 - 0s - loss: 0.0101 - accuracy: 1.0000 - val_loss: 0.0828 - val_accuracy: 0.9770\n",
      "Epoch 26/70\n",
      "6/6 - 0s - loss: 0.0100 - accuracy: 1.0000 - val_loss: 0.0822 - val_accuracy: 0.9770\n",
      "Epoch 27/70\n",
      "6/6 - 0s - loss: 0.0099 - accuracy: 1.0000 - val_loss: 0.0821 - val_accuracy: 0.9770\n",
      "Epoch 28/70\n",
      "6/6 - 0s - loss: 0.0099 - accuracy: 1.0000 - val_loss: 0.0821 - val_accuracy: 0.9770\n",
      "Epoch 29/70\n",
      "6/6 - 0s - loss: 0.0098 - accuracy: 1.0000 - val_loss: 0.0831 - val_accuracy: 0.9770\n",
      "Epoch 30/70\n",
      "6/6 - 0s - loss: 0.0098 - accuracy: 1.0000 - val_loss: 0.0835 - val_accuracy: 0.9770\n",
      "Epoch 00030: early stopping\n"
     ]
    },
    {
     "data": {
      "image/png": "[encoded data removed]",
      "text/plain": [
       "<Figure size 864x360 with 2 Axes>"
      ]
     },
     "metadata": {
      "needs_background": "light"
     },
     "output_type": "display_data"
    }
   ],
   "source": [
    "model = get_model()\n",
    "model.summary()\n",
    "model.compile(optimizer=\"Adam\", loss=\"categorical_crossentropy\", metrics=[\"accuracy\"])\n",
    "\n",
    "checkpoint_best_only = ModelCheckpoint(save_freq=\"epoch\", save_best_only=True,\n",
    "                                       filepath=\"model_checkpoints/experiment2/mlp/best_only\") \n",
    "early_stopping = EarlyStopping(monitor='val_loss', patience=20, verbose=1)\n",
    "\n",
    "history = model.fit(train_data, train_labels, epochs=70, batch_size=256, validation_split=0.15, \n",
    "                    callbacks=[early_stopping, checkpoint_best_only], \n",
    "                    verbose=2)\n",
    "\n",
    "hp.plot_metrics(history)"
   ]
  },
  {
   "cell_type": "code",
   "execution_count": 9,
   "id": "526af5ac",
   "metadata": {},
   "outputs": [
    {
     "name": "stdout",
     "output_type": "stream",
     "text": [
      "Test loss for speaker1: 0.2964409589767456\n",
      "Test accuracy speaker1: 0.9151515364646912\n",
      "Test loss for speaker2: 0.26335248351097107\n",
      "Test accuracy speaker2: 0.9242424368858337\n",
      "Test loss for speaker3: 0.11626974493265152\n",
      "Test accuracy speaker3: 0.9696969985961914\n",
      "Test loss for speaker4: 0.7428825497627258\n",
      "Test accuracy speaker4: 0.8733333349227905\n",
      "Test loss for speaker5: 0.08569739013910294\n",
      "Test accuracy speaker5: 0.9757575988769531\n"
     ]
    }
   ],
   "source": [
    "for speaker in all_speakers:\n",
    "    test_loss, test_accuracy = model.evaluate(test_dict[speaker]['data'], test_dict[speaker]['labels'], verbose=0)\n",
    "    print(f\"Test loss for {speaker}: {test_loss}\")\n",
    "    print(f\"Test accuracy {speaker}: {test_accuracy}\")"
   ]
  }
 ],
 "metadata": {
  "kernelspec": {
   "display_name": "Python 3",
   "language": "python",
   "name": "python3"
  },
  "language_info": {
   "codemirror_mode": {
    "name": "ipython",
    "version": 3
   },
   "file_extension": ".py",
   "mimetype": "text/x-python",
   "name": "python",
   "nbconvert_exporter": "python",
   "pygments_lexer": "ipython3",
   "version": "3.8.8"
  }
 },
 "nbformat": 4,
 "nbformat_minor": 5
}
